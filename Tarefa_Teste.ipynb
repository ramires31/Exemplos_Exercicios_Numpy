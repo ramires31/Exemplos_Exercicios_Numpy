{
  "nbformat": 4,
  "nbformat_minor": 0,
  "metadata": {
    "colab": {
      "provenance": []
    },
    "kernelspec": {
      "name": "python3",
      "display_name": "Python 3"
    },
    "language_info": {
      "name": "python"
    }
  },
  "cells": [
    {
      "cell_type": "code",
      "execution_count": null,
      "metadata": {
        "id": "Y4fgK5meM_ox"
      },
      "outputs": [],
      "source": [
        "import numpy as np"
      ]
    },
    {
      "cell_type": "code",
      "source": [
        "url= 'https://raw.githubusercontent.com/allanspadini/numpy/dados/citrus.csv'"
      ],
      "metadata": {
        "id": "NXL9hxnONC5m"
      },
      "execution_count": null,
      "outputs": []
    },
    {
      "cell_type": "code",
      "source": [
        "dado = np.loadtxt(url, delimiter=',',usecols=np.arange(1,6,1),skiprows=1)"
      ],
      "metadata": {
        "id": "XAqeepWCNMha"
      },
      "execution_count": null,
      "outputs": []
    },
    {
      "cell_type": "code",
      "source": [
        "diametro_laranja = dado[:5000,0]\n",
        "diametro_toranja = dado[5000:,0]\n",
        "peso_laranja = dado[:5000,1]\n",
        "peso_toranja = dado[5000:,1]"
      ],
      "metadata": {
        "id": "k0gqRZzNNpXT"
      },
      "execution_count": null,
      "outputs": []
    },
    {
      "cell_type": "code",
      "source": [
        " import matplotlib.pyplot as plt\n",
        "\n",
        "plt.plot(diametro_laranja, peso_laranja)\n",
        "plt.plot(diametro_toranja, peso_toranja)"
      ],
      "metadata": {
        "colab": {
          "base_uri": "https://localhost:8080/",
          "height": 447
        },
        "id": "YQLjBObznshI",
        "outputId": "8f531b7a-036c-4241-9fa6-4ed8914aae1a"
      },
      "execution_count": null,
      "outputs": [
        {
          "output_type": "execute_result",
          "data": {
            "text/plain": [
              "[<matplotlib.lines.Line2D at 0x7b2d8858d050>]"
            ]
          },
          "metadata": {},
          "execution_count": 7
        },
        {
          "output_type": "display_data",
          "data": {
            "text/plain": [
              "<Figure size 640x480 with 1 Axes>"
            ],
            "image/png": "[encoded data removed]"
          },
          "metadata": {}
        }
      ]
    },
    {
      "cell_type": "code",
      "source": [
        "Y = peso_laranja\n",
        "X = diametro_laranja\n",
        "n = np.size(X)\n",
        "\n",
        "a = (n*np.sum(X*Y) - np.sum(X)*np.sum(Y))/(n*np.sum(X**2)-np.sum(X)**2)\n",
        "b = np.mean(Y) - a*np.mean(X)\n"
      ],
      "metadata": {
        "id": "mvJtm472ILbG"
      },
      "execution_count": null,
      "outputs": []
    },
    {
      "cell_type": "code",
      "source": [
        "Y = peso_toranja\n",
        "X = diametro_toranja\n",
        "n = np.size(X)\n",
        "\n",
        "\n",
        "\n"
      ],
      "metadata": {
        "id": "L2b2kwBjITUM"
      },
      "execution_count": null,
      "outputs": []
    },
    {
      "cell_type": "code",
      "source": [
        "a = (n*np.sum(X*Y) - np.sum(X)*np.sum(Y))/(n*np.sum(X**2)-np.sum(X)**2)"
      ],
      "metadata": {
        "id": "gd9YWLjgI7NR"
      },
      "execution_count": null,
      "outputs": []
    },
    {
      "cell_type": "code",
      "source": [
        "b = np.mean(Y) - a*np.mean(X)"
      ],
      "metadata": {
        "id": "xOfMo8gGKHQs"
      },
      "execution_count": null,
      "outputs": []
    },
    {
      "cell_type": "code",
      "source": [
        "print(\"Valor de a:\", a)\n",
        "print(\"Valor de b:\", b)\n"
      ],
      "metadata": {
        "colab": {
          "base_uri": "https://localhost:8080/"
        },
        "id": "DjG9qnKfKL6n",
        "outputId": "faf9ee70-f29a-43f8-c3a5-d18974822771"
      },
      "execution_count": null,
      "outputs": [
        {
          "output_type": "stream",
          "name": "stdout",
          "text": [
            "Valor de a: 15.70884459360376\n",
            "Valor de b: 17.007102876817726\n"
          ]
        }
      ]
    },
    {
      "cell_type": "code",
      "source": [
        "import numpy as np\n",
        "\n",
        "x = np.array([0, 1, 2, 3, 4, 5, 6, 7, 8, 9, 10])\n",
        "y = x + 3 / 2  # Operação vetorizada (sem loop!)\n",
        "\n",
        "print(\"x (NumPy):\", x)\n",
        "print(\"y (NumPy):\", y)"
      ],
      "metadata": {
        "colab": {
          "base_uri": "https://localhost:8080/"
        },
        "id": "dx2QitiJcUgu",
        "outputId": "3cd31ba6-3786-45e9-b10b-61fef7738931"
      },
      "execution_count": null,
      "outputs": [
        {
          "output_type": "stream",
          "name": "stdout",
          "text": [
            "x (NumPy): [ 0  1  2  3  4  5  6  7  8  9 10]\n",
            "y (NumPy): [ 1.5  2.5  3.5  4.5  5.5  6.5  7.5  8.5  9.5 10.5 11.5]\n"
          ]
        }
      ]
    }
  ]
}